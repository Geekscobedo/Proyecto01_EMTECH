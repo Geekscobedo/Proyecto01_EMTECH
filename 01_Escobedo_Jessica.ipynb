{
 "cells": [
  {
   "cell_type": "markdown",
   "metadata": {},
   "source": [
    "### Life Store\n",
    "LifeStore es una tienda virtual que maneja una amplia gama de artículos, recientemente, la Gerencia de ventas, \n",
    "se percató que la empresa tiene una importante acumulación de inventario.\n",
    "\n",
    "#### Análisis de Datos en Ventas\n",
    "__por Jessica Martínez Escobedo__\n",
    "\n",
    "Introducción a Python | **EMTECH**"
   ]
  },
  {
   "cell_type": "markdown",
   "metadata": {},
   "source": [
    "#### Objetivos\n",
    "+ Poner en práctica las bases de programación en Python para análisis y clasificación\n",
    "de datos mediante la creación de programas de entrada de usuario y validaciones,\n",
    "uso y definición de variables y listas, operadores lógicos y condicionales para la\n",
    "clasificación de información.\n",
    "\n",
    "+ Identificar las áreas de oportunidad en el proceso de ventas, así como los logros, para tomar mejores decisiones en el departamento de ventas."
   ]
  },
  {
   "cell_type": "code",
   "execution_count": null,
   "metadata": {},
   "outputs": [],
   "source": [
    "# Importar la Base de datos\n",
    "from lifestore_file import lifestore_products, lifestore_sales, lifestore_searches"
   ]
  },
  {
   "cell_type": "code",
   "execution_count": null,
   "metadata": {},
   "outputs": [],
   "source": [
    "Inspeccionar de la estructura de la Base de datos \n",
    "print('-'*100)\n",
    "print('Estructura de la BD de búsqueda:\\n')\n",
    "for i in range(5):\n",
    "    print('id_search: ', lifestore_searches[i][0],' | ', 'id_product: ', lifestore_searches[i][1])\n",
    " \n",
    "print('-'*100)\n",
    "print('Estructura de la BD de ventas:\\n')\n",
    "for i in range(5):\n",
    "    print('id_sale:  ', lifestore_sales[i][0], ' | ', 'id_product: ', lifestore_sales[i][1], ' | ', \n",
    "          'score: ',lifestore_sales[i][2], ' | ', 'date: ', lifestore_sales[i][3], ' | ',\n",
    "          'refund: ',lifestore_sales[i][4]\n",
    "         )\n",
    "\n",
    "print('-'*100)\n",
    "print('Estructura de la BD de Productos:\\n')\n",
    "for i in range(5):\n",
    "    print('id_sale:  ', lifestore_products[i][0], '\\n', \n",
    "          'name:  ', lifestore_products[i][1], '\\n',\n",
    "          'price:  ', lifestore_products[i][2], ' | ', 'category:  ', lifestore_products[i][3], ' | ',\n",
    "          'stock:  ', lifestore_products[i][4], ' | \\n', \n",
    "         )\n"
   ]
  },
  {
   "cell_type": "markdown",
   "metadata": {},
   "source": [
    "Sistema de Autenticación de Usuario y Contraseña"
   ]
  },
  {
   "cell_type": "code",
   "execution_count": null,
   "metadata": {},
   "outputs": [],
   "source": [
    "def login():\n",
    "\n",
    "    print('Identificate con tus credenciales, por favor')\n",
    "\n",
    "    user = 'Jimmy' \n",
    "    pass = 'EMTECH01'\n",
    "    Intentos = 0\n",
    "    \n",
    "    while True:\n",
    "        print('*'*5)\n",
    "        print('Ingrese sus credenciales: \\n')\n",
    "        username  = input('Nombre de usuario: ')\n",
    "        password = input('Contraseña: ')\n",
    "\n",
    "        Intentos += 1\n",
    "\n",
    "        if Intentos == 5:\n",
    "            print('*'*5)\n",
    "            print('Credenciales Inválidas')\n",
    "            exit()\n",
    "        if username == user and password == pass:\n",
    "            print()\n",
    "            print('*'*5)\n",
    "            print('Bienvenide')\n",
    "            input('Presione \"Enter\" para continuar:')\n",
    "            break\n",
    "        else:\n",
    "            print('Intento fallido No. {} \\n \\n'.format(Intentos))\n",
    "        \n",
    "# Llamamos a la funcion\n",
    "login()"
   ]
  },
  {
   "cell_type": "markdown",
   "metadata": {},
   "source": [
    "### Productos más Vendidos"
   ]
  },
  {
   "cell_type": "code",
   "execution_count": null,
   "metadata": {},
   "outputs": [],
   "source": [
    "# Listar los 50 productos mas vendidos\n",
    "id_s = []\n",
    "ventas_total = []\n",
    "\n",
    "# id\n",
    "for ventas in lifestore_sales:\n",
    "    id_s.append(ventas[1])\n",
    "\n",
    "# id, nombre, numero de ventas\n",
    "for idx, produc in enumerate(lifestore_products):\n",
    "    ventas_total.append({\n",
    "        'id':produc[0],\n",
    "        'name':produc[1], \n",
    "        'total':id_s.count(idx+1)\n",
    "    })\n",
    "\n",
    "# Ordenar a partir de una llave\n",
    "ventas_total = sorted(ventas_total, key=lambda x:x['total'], reverse=True)\n",
    "\n",
    "# 50 articulos mas vendidos\n",
    "top_50 = ventas_total[:50]\n",
    "\n",
    "\n",
    "# Imprimir de los primeros 5 productos\n",
    "print('Productos mas vendidos')\n",
    "for i in range(5):\n",
    "    print(\n",
    "        ' Ventas  : ', top_50[i]['total'], '\\n',\n",
    "        'Producto: ', top_50[i]['name'], '\\n', "
   ]
  },
  {
   "cell_type": "markdown",
   "metadata": {},
   "source": [
    "### Productos más Buscados"
   ]
  },
  {
   "cell_type": "code",
   "execution_count": null,
   "metadata": {},
   "outputs": [],
   "source": [
    "_ids = []\n",
    "busquedas_t = []\n",
    "\n",
    "# id\n",
    "for busq in lifestore_searches:\n",
    "    _ids.append(busq[1])\n",
    "\n",
    "# id, nombre, numero de busquedas\n",
    "for produc in lifestore_products:\n",
    "    busquedas_t.append(\n",
    "        {'id':produc[0],\n",
    "         'Name':produc[1],\n",
    "         'Busquedas':_ids.count(produc[0])\n",
    "         }\n",
    "    )\n",
    "\n",
    "busquedas_total = sorted(busquedas_t, key=lambda x:x['Busquedas'], reverse=True)\n",
    "\n",
    "# Imprimir de los primeros 5 productos\n",
    "print('Productos mas buscados')\n",
    "for i in range(5):\n",
    "    print(\n",
    "        ' Busquedas: ', busquedas_total[i]['Busquedas'], '\\n',\n",
    "        'Producto: ', busquedas_total[i]['Name'], '\\n', \n",
    "    )"
   ]
  },
  {
   "cell_type": "markdown",
   "metadata": {},
   "source": [
    "### 50 Menores Ventas por Categoría"
   ]
  },
  {
   "cell_type": "code",
   "execution_count": null,
   "metadata": {},
   "outputs": [],
   "source": [
    "# Usar compresion de listas\n",
    "# categorias\n",
    "categorias = [catego[3] for catego in lifestore_products]\n",
    "unique_categorias = list(dict.fromkeys(categorias))\n",
    "\n",
    "\n",
    "categorias = {\n",
    "     'procesadores'     :[],\n",
    "    'tarjetas de video':[], \n",
    "    'tarjetas madre'   :[], \n",
    "    'discos duros'     :[], \n",
    "    'memorias usb'     :[], \n",
    "    'pantallas'        :[], \n",
    "    'bocinas'          :[], \n",
    "    'audifonos'        :[]   \n",
    "}\n",
    "\n",
    "# Invertir el orden de venta\n",
    "ventas_total_50 = ventas_total[:50]\n",
    "ventas_total_i = ventas_total_50[::-1]\n",
    "\n",
    "# Organizamos por categoria\n",
    "for ventas in ventas_total_i:\n",
    "    for productos in lifestore_products:\n",
    "        if ventas['name'] == productos[1]:\n",
    "            categorias[productos[3]].append([ventas['name'], ventas['total']])\n",
    "\n",
    "\n",
    "# Imprimir los primeros 5 productos por categoria\n",
    "print('Productos con menos ventas')\n",
    "for name in categorias:\n",
    "    print('CATEGORIA: ', name)\n",
    "    for i in range(len(categorias[name])):\n",
    "        if i > 5:\n",
    "            break\n",
    "        else:\n",
    "            print(' Nombre: ', categorias[name][i][0], '\\n',\n",
    "                  'Ventas:  ', categorias[name][i][1] )\n",
    "    print()  "
   ]
  },
  {
   "cell_type": "markdown",
   "metadata": {},
   "source": [
    "### 100 Menores Búsquedas por Categoría"
   ]
  },
  {
   "cell_type": "code",
   "execution_count": null,
   "metadata": {},
   "outputs": [],
   "source": [
    "categorias_busqueda = {\n",
    "     'procesadores'     :[],\n",
    "    'tarjetas de video':[], \n",
    "    'tarjetas madre'   :[], \n",
    "    'discos duros'     :[], \n",
    "    'memorias usb'     :[], \n",
    "    'pantallas'        :[], \n",
    "    'bocinas'          :[], \n",
    "    'audifonos'        :[]   \n",
    "}\n",
    "\n",
    "\n",
    "# Invertir la lista de busqueda\n",
    "busquedas_total_i = busquedas_total[::-1]\n",
    "\n",
    "# Organizar por categoria\n",
    "for busqueda in busquedas_total_i:\n",
    "    for productos in lifestore_products:\n",
    "        if busqueda['Name'] == productos[1]:\n",
    "            categorias_busqueda[productos[3]].append(\n",
    "                [busqueda['Name'], \n",
    "                busqueda['Busquedas']])\n",
    "\n",
    "\n",
    "# Imprimir de los primeros 5 productos por categoria\n",
    "print('-------------------------------------------------')\n",
    "print('--------Productos con menos busquedas------------')\n",
    "print('-------------------------------------------------')\n",
    "for name in categorias_busqueda:\n",
    "    print('CATEGORIA: ', name)\n",
    "    for i in range(len(categorias_busqueda[name])):\n",
    "        if i > 5:\n",
    "            break\n",
    "        else:\n",
    "            print(' Nombre:   ', categorias_busqueda[name][i][0], '\\n',\n",
    "                  'Busquedas: ', categorias_busqueda[name][i][1] )\n",
    "    print() \n"
   ]
  },
  {
   "cell_type": "markdown",
   "metadata": {},
   "source": [
    "#### Productos por Calificación en el Servicio"
   ]
  },
  {
   "cell_type": "code",
   "execution_count": null,
   "metadata": {},
   "outputs": [],
   "source": [
    "# id, Nombre, Calificacion\n",
    "valoraciones = []\n",
    "for ventas in lifestore_sales:\n",
    "    for produ in lifestore_products:\n",
    "        if ventas[1] == produ[0]:\n",
    "            valoraciones.append([ventas[1], produ[1], ventas[2]])\n",
    "\n",
    "# id \n",
    "id_produc = []\n",
    "for i in range(len(valoraciones)):\n",
    "    id_produc.append(valoraciones[i][0])\n",
    "\n",
    "# Nombres\n",
    "ventas_nombres = []\n",
    "for i in range(len(valoraciones)):\n",
    "    ventas_nombres.append(valoraciones[i][1])\n",
    "\n",
    "# id unico\n",
    "id_unico = list(dict.fromkeys(id_produc))\n",
    "\n",
    "# Nombres unicos\n",
    "ventas_unicas = list(dict.fromkeys(ventas_nombres))\n",
    "\n",
    "# Nombres, # de valoraciones\n",
    "repeticiones = []\n",
    "for repe in ventas_unicas:\n",
    "    repeticiones.append([repe, ventas_nombres.count(repe)])\n",
    "\n",
    "# Lista de listas de valoraciones\n",
    "lista_score = []\n",
    "for id in id_unico:\n",
    "    aux = []\n",
    "    for ventas in lifestore_sales:\n",
    "        if ventas[1] == id:\n",
    "            aux.append(ventas[2])\n",
    "    lista_score.append(aux)\n",
    "\n",
    "# Valores promedios\n",
    "promedios = []\n",
    "for idx, lista in enumerate(lista_score):\n",
    "    aux = int(sum(lista)/repeticiones[idx][1])\n",
    "    promedios.append(aux)\n",
    "\n",
    "# Nombre, valoracion\n",
    "valoraciones_finales = dict(zip(ventas_unicas, promedios))\n",
    "\n",
    "# Ordenar el diccionario\n",
    "valoraciones_finales = sorted(valoraciones_finales.items(), key=lambda x:x[1])\n",
    "valoraciones_finales_i = valoraciones_finales[::-1]\n",
    "\n",
    "\n",
    "top_20_valores = valoraciones_finales_i[:20]\n",
    "botton_20_valores = valoraciones_finales[:20]\n"
   ]
  },
  {
   "cell_type": "markdown",
   "metadata": {},
   "source": [
    "### Mejores Calificados"
   ]
  },
  {
   "cell_type": "code",
   "execution_count": null,
   "metadata": {},
   "outputs": [],
   "source": [
    "for i in range(10):\n",
    "    print(' Producto:  ', top_20_valores[i][0], '\\n',\n",
    "          'Valoracion: ', top_20_valores[i][1] )"
   ]
  },
  {
   "cell_type": "markdown",
   "metadata": {},
   "source": [
    "### Peores Calificados"
   ]
  },
  {
   "cell_type": "code",
   "execution_count": null,
   "metadata": {},
   "outputs": [],
   "source": [
    "or i in range(10):\n",
    "    print(' Producto:  ', botton_20_valores[i][0], '\\n',\n",
    "          'Valoracion: ', botton_20_valores[i][1] )"
   ]
  },
  {
   "cell_type": "markdown",
   "metadata": {},
   "source": [
    "### Ingresos y ventas en ventanas de tiempo"
   ]
  },
  {
   "cell_type": "code",
   "execution_count": null,
   "metadata": {},
   "outputs": [],
   "source": [
    "# Total de ingresos y ventas promedio mensuales,\n",
    "# total anual y meses con más ventas al año\n",
    "\n",
    "# Importar las librerias necesarias\n",
    "from datetime import datetime\n",
    "\n",
    "# Crear una copia para trabajar\n",
    "lifestore_sales_copy = lifestore_sales.copy()\n",
    "\n",
    "# Cambia elr tipo de dato\n",
    "for value in range(len(lifestore_sales_copy)):\n",
    "    lifestore_sales_copy[value][3] = datetime.strptime(lifestore_sales_copy[value][3], '%d/%m/%Y')\n",
    "\n",
    "\n",
    "# Nueva lista\n",
    "# id, nombre, fecha, precio\n",
    "ingresos = []\n",
    "for idx,lista in enumerate(lifestore_sales_copy):\n",
    "    for produc in lifestore_products:\n",
    "        if lista[1] == produc[0]:\n",
    "            ingresos.append([produc[0],\n",
    "                             produc[1], \n",
    "                             lista[3],\n",
    "                             produc[2]\n",
    "            ])\n",
    "\n",
    "# Ordenar funcion de la fecha\n",
    "ingresos_ord = sorted(ingresos, key=lambda x:x[2])\n",
    "\n",
    "# Extraer los meses de cada fecha de venta\n",
    "meses = []\n",
    "for i in range(len(ingresos_ord)):\n",
    "    meses.append(datetime.strftime(ingresos_ord[i][2],'%m'))\n",
    "\n",
    "# Crear una lista con los meses sin repetir\n",
    "meses_unicos = list(dict.fromkeys(meses))\n",
    "\n",
    "# mes, # de ventas\n",
    "longitudes = []\n",
    "for mes in meses_unicos:\n",
    "    longitudes.append(meses.count(mes))\n",
    "\n",
    "# Definir una lista para los límites \n",
    "limites = []\n",
    "for i in range(len(longitudes)):\n",
    "    if i == 0:\n",
    "        limites.append(longitudes[i])\n",
    "    else:\n",
    "        limites.append(longitudes[i]+limites[i-1])\n",
    "\n",
    "'''\n",
    " Dado que tenemos las longitudes y los límites,\n",
    " podemos separar la lista original por mes\n",
    " Lista de listas que contienen los meses de diciembre a septiembre\n",
    " Cada lista interna tiene la forma:\n",
    "      id, nombre, fecha, precio\n",
    "'''    \n",
    "\n",
    "lista_meses = [[], [], [], [], [], [], [], [], [], []]\n",
    "\n",
    "for i in range(len(limites)):\n",
    "    if i == 0:\n",
    "        lista_meses[i].append(ingresos_ord[0:limites[i]]) \n",
    "    else:\n",
    "        lista_meses[i].append(ingresos_ord[limites[i-1]:limites[i]])\n",
    "\n",
    "# Lista con los ingresos por mes\n",
    "ingresos_por_mes = []\n",
    "for i in range(len(longitudes)):\n",
    "    if i == 1:\n",
    "        ingresos_por_mes.append(0)\n",
    "    aux = 0\n",
    "    for lon in range(longitudes[i]):\n",
    "        aux +=lista_meses[i][0][lon][-1]\n",
    "    ingresos_por_mes.append(aux)\n",
    "\n",
    "\n",
    "llaves_mes = ['Noviembre', 'Diciembre','Enero', 'Febrero', 'Marzo',\n",
    "              'Abril', 'Mayo', 'Junio', 'Julio',\n",
    "              'Agosto', 'Septiembre']\n",
    "\n",
    "# Crear un diccionario\n",
    "# mes:ingreso\n",
    "ingresos_final = dict(zip(llaves_mes, ingresos_por_mes))"
   ]
  },
  {
   "cell_type": "markdown",
   "metadata": {},
   "source": [
    "### Ingresos por Mes"
   ]
  },
  {
   "cell_type": "code",
   "execution_count": null,
   "metadata": {},
   "outputs": [],
   "source": [
    "for key, value in ingresos_final.items():\n",
    "    print(' Mes:    ', key, '\\n', \n",
    "          'Ingreso: ', value)"
   ]
  },
  {
   "cell_type": "markdown",
   "metadata": {},
   "source": [
    "### Ingresos Totales"
   ]
  },
  {
   "cell_type": "code",
   "execution_count": null,
   "metadata": {},
   "outputs": [],
   "source": [
    "print('Ingresos totales:', sum(ingresos_por_mes))"
   ]
  },
  {
   "cell_type": "markdown",
   "metadata": {},
   "source": [
    "### Ventas Promedio por Mes"
   ]
  },
  {
   "cell_type": "code",
   "execution_count": null,
   "metadata": {},
   "outputs": [],
   "source": [
    "promedios = []\n",
    "for i in range(len(longitudes)):\n",
    "    promedios.append(ingresos_por_mes[i]/longitudes[i])\n",
    "\n",
    "\n",
    "# Diccionario \n",
    "# mes: promedio\n",
    "ingresos_promedios = dict(zip(llaves_mes, promedios))"
   ]
  },
  {
   "cell_type": "markdown",
   "metadata": {},
   "source": [
    "### Ingresos "
   ]
  },
  {
   "cell_type": "code",
   "execution_count": null,
   "metadata": {},
   "outputs": [],
   "source": [
    "# Ingresos promedio\n",
    "for key, value in ingresos_promedios.items():\n",
    "    print(' Mes:    ', key, '\\n', \n",
    "          'Ingreso: ', value)\n",
    "\n",
    "# Año 2019\n",
    "print('-------------------------------------------------')\n",
    "print('----------------Ingresos 2019--------------------')\n",
    "print('-------------------------------------------------')\n",
    "print('Ingreso en el 2019:', 4209)\n",
    "\n",
    "# Año 2020\n",
    "print('-------------------------------------------------')\n",
    "print('----------------Ingresos 2020--------------------')\n",
    "print('-------------------------------------------------')\n",
    "print('Ingreso en el 2020:', sum(ingresos_por_mes) - 4209)\n",
    "\n",
    "# Top 3 meses en venta\n",
    "meses_ordenados = sorted(ingresos_final.items(), key=lambda x:x[1], reverse=True)\n"
   ]
  },
  {
   "cell_type": "markdown",
   "metadata": {},
   "source": [
    "### Top 3 Meses"
   ]
  },
  {
   "cell_type": "code",
   "execution_count": null,
   "metadata": {},
   "outputs": [],
   "source": [
    "for i in range(3):\n",
    "    print(' Mes:   ', meses_ordenados[i][0], '\\n',\n",
    "          'Ingreso:', meses_ordenados[i][1])\n",
    "\n",
    "# Numero de ventas\n",
    "tickets = []\n",
    "for i in range(len(llaves_mes)):\n",
    "    if i == 1:\n",
    "        tickets.append(0)\n",
    "    else:\n",
    "        tickets.append(longitudes[i-1])\n",
    "\n",
    "\n",
    "# Stock\n",
    "produc_copy = lifestore_products.copy()\n",
    "stock = []\n",
    "for i in lifestore_products:\n",
    "    stock.append([i[1], i[-1]])\n",
    "\n",
    "stock_order = sorted(stock, key=lambda x:x[1], reverse=True)"
   ]
  },
  {
   "cell_type": "markdown",
   "metadata": {},
   "source": [
    "### Visualización de los Datos"
   ]
  },
  {
   "cell_type": "code",
   "execution_count": null,
   "metadata": {},
   "outputs": [],
   "source": [
    "import matplotlib.pyplot as plt\n",
    "plt.style.use('Solarize_Light2')\n",
    "\n",
    "\n",
    "# Ingresos por mes\n",
    "plt.figure(figsize=(10,6))\n",
    "plt.plot(ingresos_final.keys(), ingresos_final.values())\n",
    "plt.fill_between(ingresos_final.keys(), ingresos_final.values(), alpha=0.5)\n",
    "for x, y in zip(ingresos_final.keys(), ingresos_final.values()):\n",
    "    plt.text(x, y, '$%.2f'%y, ha='center', va='bottom', fontsize=10.5)\n",
    "plt.xlabel('Mes de venta')\n",
    "plt.ylabel('Ventas totales [$]')\n",
    "plt.title('Ingresos por mes', fontsize=16, c='k')\n",
    "plt.xticks(rotation = 45)\n",
    "plt.ylim(0, 225000)\n",
    "plt.savefig('Ingresos_Por_Mes.jpg', dpi=900)\n",
    "plt.show()\n",
    "\n",
    "\n",
    "# Ingresos promedios por mes\n",
    "plt.figure(figsize=(10,6))\n",
    "plt.plot(ingresos_promedios.keys(), ingresos_promedios.values())\n",
    "plt.fill_between(ingresos_promedios.keys(), ingresos_promedios.values(), alpha=0.5)\n",
    "for x, y in zip(ingresos_promedios.keys(), ingresos_promedios.values()):\n",
    "    plt.text(x, y, '$%.2f'%y, ha='center', va='bottom', fontsize=10.5)\n",
    "plt.xlabel('Mes de venta')\n",
    "plt.ylabel('Ventas [$]')\n",
    "plt.title('Ingresos promediados por mes', fontsize=18, c='k')\n",
    "plt.xticks(rotation = 45)\n",
    "plt.ylim(0, 9500)\n",
    "plt.savefig('Ingresos_Promedio.jpg', dpi=900)\n",
    "plt.show()\n",
    "\n",
    "\n",
    "# Numero de ventas por mes\n",
    "plt.figure(figsize=(10,6))\n",
    "plt.plot(ingresos_final.keys(), tickets)\n",
    "plt.fill_between(ingresos_final.keys(), tickets, alpha=0.5)\n",
    "for x, y in zip(ingresos_final.keys(), tickets):\n",
    "    plt.text(x, y, '%.0f'%y, ha='center', va='bottom', fontsize=10.5)\n",
    "plt.xlabel('Mes de venta')\n",
    "plt.ylabel('Ventas [unidades]')\n",
    "plt.title('Número de ventas por mes', fontsize=18, c='k')\n",
    "plt.xticks(rotation = 45)\n",
    "plt.ylim(0, 80)\n",
    "plt.savefig('Tickets.jpg', dpi=900)\n",
    "plt.show()"
   ]
  }
 ],
 "metadata": {
  "language_info": {
   "name": "python"
  },
  "orig_nbformat": 4
 },
 "nbformat": 4,
 "nbformat_minor": 2
}
